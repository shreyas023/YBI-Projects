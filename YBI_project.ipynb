{
  "nbformat": 4,
  "nbformat_minor": 0,
  "metadata": {
    "colab": {
      "provenance": []
    },
    "kernelspec": {
      "name": "python3",
      "display_name": "Python 3"
    },
    "language_info": {
      "name": "python"
    }
  },
  "cells": [
    {
      "cell_type": "markdown",
      "source": [
        "# **Hand Written Digit Prediction - Classification Analysis**"
      ],
      "metadata": {
        "id": "5Uv3Mg9Hgzio"
      }
    },
    {
      "cell_type": "markdown",
      "source": [
        "The digits dataset consists of 8x8 pixel images of digits. The images attribute of the dataset stores 8x8 arrays of grayscale values for each image. We will use these arrays to visualize the first 4 images. The target attribute of the dataset stores the digit each image represents."
      ],
      "metadata": {
        "id": "KDumaT5mhBRR"
      }
    },
    {
      "cell_type": "markdown",
      "source": [
        "Data source : Sklearn datasets"
      ],
      "metadata": {
        "id": "Nqw1Ma1pjlDJ"
      }
    },
    {
      "cell_type": "code",
      "execution_count": 25,
      "metadata": {
        "id": "lYQ4S-9lgkJu"
      },
      "outputs": [],
      "source": [
        "#importing libraries\n",
        "\n",
        "import pandas as pd\n",
        "import numpy as np\n",
        "import matplotlib.pyplot as plt"
      ]
    },
    {
      "cell_type": "code",
      "source": [
        "#importing data\n",
        "\n",
        "from sklearn.datasets import load_digits"
      ],
      "metadata": {
        "id": "fNrw12Kih44T"
      },
      "execution_count": 26,
      "outputs": []
    },
    {
      "cell_type": "code",
      "source": [
        "df = load_digits()"
      ],
      "metadata": {
        "id": "Z8AVcaK3iCbH"
      },
      "execution_count": 27,
      "outputs": []
    },
    {
      "cell_type": "code",
      "source": [
        "df"
      ],
      "metadata": {
        "colab": {
          "base_uri": "https://localhost:8080/"
        },
        "id": "oWkALK1EjxPm",
        "outputId": "f096dd97-1f3b-44ea-d133-fc062f5801b6"
      },
      "execution_count": 28,
      "outputs": [
        {
          "output_type": "execute_result",
          "data": {
            "text/plain": [
              "{'data': array([[ 0.,  0.,  5., ...,  0.,  0.,  0.],\n",
              "        [ 0.,  0.,  0., ..., 10.,  0.,  0.],\n",
              "        [ 0.,  0.,  0., ..., 16.,  9.,  0.],\n",
              "        ...,\n",
              "        [ 0.,  0.,  1., ...,  6.,  0.,  0.],\n",
              "        [ 0.,  0.,  2., ..., 12.,  0.,  0.],\n",
              "        [ 0.,  0., 10., ..., 12.,  1.,  0.]]),\n",
              " 'target': array([0, 1, 2, ..., 8, 9, 8]),\n",
              " 'frame': None,\n",
              " 'feature_names': ['pixel_0_0',\n",
              "  'pixel_0_1',\n",
              "  'pixel_0_2',\n",
              "  'pixel_0_3',\n",
              "  'pixel_0_4',\n",
              "  'pixel_0_5',\n",
              "  'pixel_0_6',\n",
              "  'pixel_0_7',\n",
              "  'pixel_1_0',\n",
              "  'pixel_1_1',\n",
              "  'pixel_1_2',\n",
              "  'pixel_1_3',\n",
              "  'pixel_1_4',\n",
              "  'pixel_1_5',\n",
              "  'pixel_1_6',\n",
              "  'pixel_1_7',\n",
              "  'pixel_2_0',\n",
              "  'pixel_2_1',\n",
              "  'pixel_2_2',\n",
              "  'pixel_2_3',\n",
              "  'pixel_2_4',\n",
              "  'pixel_2_5',\n",
              "  'pixel_2_6',\n",
              "  'pixel_2_7',\n",
              "  'pixel_3_0',\n",
              "  'pixel_3_1',\n",
              "  'pixel_3_2',\n",
              "  'pixel_3_3',\n",
              "  'pixel_3_4',\n",
              "  'pixel_3_5',\n",
              "  'pixel_3_6',\n",
              "  'pixel_3_7',\n",
              "  'pixel_4_0',\n",
              "  'pixel_4_1',\n",
              "  'pixel_4_2',\n",
              "  'pixel_4_3',\n",
              "  'pixel_4_4',\n",
              "  'pixel_4_5',\n",
              "  'pixel_4_6',\n",
              "  'pixel_4_7',\n",
              "  'pixel_5_0',\n",
              "  'pixel_5_1',\n",
              "  'pixel_5_2',\n",
              "  'pixel_5_3',\n",
              "  'pixel_5_4',\n",
              "  'pixel_5_5',\n",
              "  'pixel_5_6',\n",
              "  'pixel_5_7',\n",
              "  'pixel_6_0',\n",
              "  'pixel_6_1',\n",
              "  'pixel_6_2',\n",
              "  'pixel_6_3',\n",
              "  'pixel_6_4',\n",
              "  'pixel_6_5',\n",
              "  'pixel_6_6',\n",
              "  'pixel_6_7',\n",
              "  'pixel_7_0',\n",
              "  'pixel_7_1',\n",
              "  'pixel_7_2',\n",
              "  'pixel_7_3',\n",
              "  'pixel_7_4',\n",
              "  'pixel_7_5',\n",
              "  'pixel_7_6',\n",
              "  'pixel_7_7'],\n",
              " 'target_names': array([0, 1, 2, 3, 4, 5, 6, 7, 8, 9]),\n",
              " 'images': array([[[ 0.,  0.,  5., ...,  1.,  0.,  0.],\n",
              "         [ 0.,  0., 13., ..., 15.,  5.,  0.],\n",
              "         [ 0.,  3., 15., ..., 11.,  8.,  0.],\n",
              "         ...,\n",
              "         [ 0.,  4., 11., ..., 12.,  7.,  0.],\n",
              "         [ 0.,  2., 14., ..., 12.,  0.,  0.],\n",
              "         [ 0.,  0.,  6., ...,  0.,  0.,  0.]],\n",
              " \n",
              "        [[ 0.,  0.,  0., ...,  5.,  0.,  0.],\n",
              "         [ 0.,  0.,  0., ...,  9.,  0.,  0.],\n",
              "         [ 0.,  0.,  3., ...,  6.,  0.,  0.],\n",
              "         ...,\n",
              "         [ 0.,  0.,  1., ...,  6.,  0.,  0.],\n",
              "         [ 0.,  0.,  1., ...,  6.,  0.,  0.],\n",
              "         [ 0.,  0.,  0., ..., 10.,  0.,  0.]],\n",
              " \n",
              "        [[ 0.,  0.,  0., ..., 12.,  0.,  0.],\n",
              "         [ 0.,  0.,  3., ..., 14.,  0.,  0.],\n",
              "         [ 0.,  0.,  8., ..., 16.,  0.,  0.],\n",
              "         ...,\n",
              "         [ 0.,  9., 16., ...,  0.,  0.,  0.],\n",
              "         [ 0.,  3., 13., ..., 11.,  5.,  0.],\n",
              "         [ 0.,  0.,  0., ..., 16.,  9.,  0.]],\n",
              " \n",
              "        ...,\n",
              " \n",
              "        [[ 0.,  0.,  1., ...,  1.,  0.,  0.],\n",
              "         [ 0.,  0., 13., ...,  2.,  1.,  0.],\n",
              "         [ 0.,  0., 16., ..., 16.,  5.,  0.],\n",
              "         ...,\n",
              "         [ 0.,  0., 16., ..., 15.,  0.,  0.],\n",
              "         [ 0.,  0., 15., ..., 16.,  0.,  0.],\n",
              "         [ 0.,  0.,  2., ...,  6.,  0.,  0.]],\n",
              " \n",
              "        [[ 0.,  0.,  2., ...,  0.,  0.,  0.],\n",
              "         [ 0.,  0., 14., ..., 15.,  1.,  0.],\n",
              "         [ 0.,  4., 16., ..., 16.,  7.,  0.],\n",
              "         ...,\n",
              "         [ 0.,  0.,  0., ..., 16.,  2.,  0.],\n",
              "         [ 0.,  0.,  4., ..., 16.,  2.,  0.],\n",
              "         [ 0.,  0.,  5., ..., 12.,  0.,  0.]],\n",
              " \n",
              "        [[ 0.,  0., 10., ...,  1.,  0.,  0.],\n",
              "         [ 0.,  2., 16., ...,  1.,  0.,  0.],\n",
              "         [ 0.,  0., 15., ..., 15.,  0.,  0.],\n",
              "         ...,\n",
              "         [ 0.,  4., 16., ..., 16.,  6.,  0.],\n",
              "         [ 0.,  8., 16., ..., 16.,  8.,  0.],\n",
              "         [ 0.,  1.,  8., ..., 12.,  1.,  0.]]]),\n",
              " 'DESCR': \".. _digits_dataset:\\n\\nOptical recognition of handwritten digits dataset\\n--------------------------------------------------\\n\\n**Data Set Characteristics:**\\n\\n    :Number of Instances: 1797\\n    :Number of Attributes: 64\\n    :Attribute Information: 8x8 image of integer pixels in the range 0..16.\\n    :Missing Attribute Values: None\\n    :Creator: E. Alpaydin (alpaydin '@' boun.edu.tr)\\n    :Date: July; 1998\\n\\nThis is a copy of the test set of the UCI ML hand-written digits datasets\\nhttps://archive.ics.uci.edu/ml/datasets/Optical+Recognition+of+Handwritten+Digits\\n\\nThe data set contains images of hand-written digits: 10 classes where\\neach class refers to a digit.\\n\\nPreprocessing programs made available by NIST were used to extract\\nnormalized bitmaps of handwritten digits from a preprinted form. From a\\ntotal of 43 people, 30 contributed to the training set and different 13\\nto the test set. 32x32 bitmaps are divided into nonoverlapping blocks of\\n4x4 and the number of on pixels are counted in each block. This generates\\nan input matrix of 8x8 where each element is an integer in the range\\n0..16. This reduces dimensionality and gives invariance to small\\ndistortions.\\n\\nFor info on NIST preprocessing routines, see M. D. Garris, J. L. Blue, G.\\nT. Candela, D. L. Dimmick, J. Geist, P. J. Grother, S. A. Janet, and C.\\nL. Wilson, NIST Form-Based Handprint Recognition System, NISTIR 5469,\\n1994.\\n\\n.. topic:: References\\n\\n  - C. Kaynak (1995) Methods of Combining Multiple Classifiers and Their\\n    Applications to Handwritten Digit Recognition, MSc Thesis, Institute of\\n    Graduate Studies in Science and Engineering, Bogazici University.\\n  - E. Alpaydin, C. Kaynak (1998) Cascading Classifiers, Kybernetika.\\n  - Ken Tang and Ponnuthurai N. Suganthan and Xi Yao and A. Kai Qin.\\n    Linear dimensionalityreduction using relevance weighted LDA. School of\\n    Electrical and Electronic Engineering Nanyang Technological University.\\n    2005.\\n  - Claudio Gentile. A New Approximate Maximal Margin Classification\\n    Algorithm. NIPS. 2000.\\n\"}"
            ]
          },
          "metadata": {},
          "execution_count": 28
        }
      ]
    },
    {
      "cell_type": "code",
      "source": [
        "_, axes = plt.subplots(nrows=1, ncols=4, figsize=(10,3))\n",
        "for ax, image, label in zip(axes,df.images,df.target):\n",
        "  ax.set_axis_off()\n",
        "  ax.imshow(image, cmap=plt.cm.gray_r, interpolation = \"nearest\")\n",
        "  ax.set_title(\"Training: %i\"% label)"
      ],
      "metadata": {
        "colab": {
          "base_uri": "https://localhost:8080/",
          "height": 183
        },
        "id": "pJl9pLeNiGRJ",
        "outputId": "b51bfb56-47d5-4b78-f362-042b2c9073a4"
      },
      "execution_count": 29,
      "outputs": [
        {
          "output_type": "display_data",
          "data": {
            "text/plain": [
              "<Figure size 1000x300 with 4 Axes>"
            ],
            "image/png": "[encoded data removed]"
          },
          "metadata": {}
        }
      ]
    },
    {
      "cell_type": "markdown",
      "source": [
        "# Data Preprocessing\n",
        "Flatten Image\n",
        "\n",
        "![image.png](data:image/png;base64,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)\n",
        "\n",
        "![image.png](data:image/png;base64,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)\n",
        "\n",
        "\n",
        "\n",
        "\n",
        "\n",
        "\n",
        "\n"
      ],
      "metadata": {
        "id": "_hnBcc3SkNol"
      }
    },
    {
      "cell_type": "code",
      "source": [
        "df.images.shape"
      ],
      "metadata": {
        "colab": {
          "base_uri": "https://localhost:8080/"
        },
        "id": "SndZJ2SYkjby",
        "outputId": "fca55ec7-ef3c-41d1-dec0-8f25a6761935"
      },
      "execution_count": 30,
      "outputs": [
        {
          "output_type": "execute_result",
          "data": {
            "text/plain": [
              "(1797, 8, 8)"
            ]
          },
          "metadata": {},
          "execution_count": 30
        }
      ]
    },
    {
      "cell_type": "code",
      "source": [
        "df.images[0]"
      ],
      "metadata": {
        "colab": {
          "base_uri": "https://localhost:8080/"
        },
        "id": "Z1_0k8VtmSIR",
        "outputId": "2e6ec536-0023-4c36-e77b-e3fb96df81fc"
      },
      "execution_count": 31,
      "outputs": [
        {
          "output_type": "execute_result",
          "data": {
            "text/plain": [
              "array([[ 0.,  0.,  5., 13.,  9.,  1.,  0.,  0.],\n",
              "       [ 0.,  0., 13., 15., 10., 15.,  5.,  0.],\n",
              "       [ 0.,  3., 15.,  2.,  0., 11.,  8.,  0.],\n",
              "       [ 0.,  4., 12.,  0.,  0.,  8.,  8.,  0.],\n",
              "       [ 0.,  5.,  8.,  0.,  0.,  9.,  8.,  0.],\n",
              "       [ 0.,  4., 11.,  0.,  1., 12.,  7.,  0.],\n",
              "       [ 0.,  2., 14.,  5., 10., 12.,  0.,  0.],\n",
              "       [ 0.,  0.,  6., 13., 10.,  0.,  0.,  0.]])"
            ]
          },
          "metadata": {},
          "execution_count": 31
        }
      ]
    },
    {
      "cell_type": "code",
      "source": [
        "df.images[0].shape"
      ],
      "metadata": {
        "colab": {
          "base_uri": "https://localhost:8080/"
        },
        "id": "oYAdu3iTmUww",
        "outputId": "c3d6b8f7-9e87-42f7-d04e-e359b01d9421"
      },
      "execution_count": 32,
      "outputs": [
        {
          "output_type": "execute_result",
          "data": {
            "text/plain": [
              "(8, 8)"
            ]
          },
          "metadata": {},
          "execution_count": 32
        }
      ]
    },
    {
      "cell_type": "code",
      "source": [
        "len(df.images)"
      ],
      "metadata": {
        "colab": {
          "base_uri": "https://localhost:8080/"
        },
        "id": "lnHyseAKmXNh",
        "outputId": "2bd51c1a-3975-4582-b1e6-95b4c0327182"
      },
      "execution_count": 33,
      "outputs": [
        {
          "output_type": "execute_result",
          "data": {
            "text/plain": [
              "1797"
            ]
          },
          "metadata": {},
          "execution_count": 33
        }
      ]
    },
    {
      "cell_type": "code",
      "source": [
        "n_samples = len(df.images)\n",
        "data = df.images.reshape((n_samples, -1))"
      ],
      "metadata": {
        "id": "L5PS9TQNmaq5"
      },
      "execution_count": 34,
      "outputs": []
    },
    {
      "cell_type": "code",
      "source": [
        "data[0]"
      ],
      "metadata": {
        "colab": {
          "base_uri": "https://localhost:8080/"
        },
        "id": "04DWRQK_mzMY",
        "outputId": "31950e86-fb5c-452f-bb0a-b3fc32ae4f7d"
      },
      "execution_count": 35,
      "outputs": [
        {
          "output_type": "execute_result",
          "data": {
            "text/plain": [
              "array([ 0.,  0.,  5., 13.,  9.,  1.,  0.,  0.,  0.,  0., 13., 15., 10.,\n",
              "       15.,  5.,  0.,  0.,  3., 15.,  2.,  0., 11.,  8.,  0.,  0.,  4.,\n",
              "       12.,  0.,  0.,  8.,  8.,  0.,  0.,  5.,  8.,  0.,  0.,  9.,  8.,\n",
              "        0.,  0.,  4., 11.,  0.,  1., 12.,  7.,  0.,  0.,  2., 14.,  5.,\n",
              "       10., 12.,  0.,  0.,  0.,  0.,  6., 13., 10.,  0.,  0.,  0.])"
            ]
          },
          "metadata": {},
          "execution_count": 35
        }
      ]
    },
    {
      "cell_type": "code",
      "source": [
        "data[0].shape"
      ],
      "metadata": {
        "colab": {
          "base_uri": "https://localhost:8080/"
        },
        "id": "g6v8cZh2m1HM",
        "outputId": "6ad1d83a-e11d-4754-870d-3c109bda3af4"
      },
      "execution_count": 36,
      "outputs": [
        {
          "output_type": "execute_result",
          "data": {
            "text/plain": [
              "(64,)"
            ]
          },
          "metadata": {},
          "execution_count": 36
        }
      ]
    },
    {
      "cell_type": "code",
      "source": [
        "data.shape"
      ],
      "metadata": {
        "colab": {
          "base_uri": "https://localhost:8080/"
        },
        "id": "Dg9nLtJJm3ww",
        "outputId": "21fd2c21-8f37-4655-b971-31bcee7e90e4"
      },
      "execution_count": 37,
      "outputs": [
        {
          "output_type": "execute_result",
          "data": {
            "text/plain": [
              "(1797, 64)"
            ]
          },
          "metadata": {},
          "execution_count": 37
        }
      ]
    },
    {
      "cell_type": "markdown",
      "source": [
        "#Scaling Image Data"
      ],
      "metadata": {
        "id": "ya-AuNKmndGt"
      }
    },
    {
      "cell_type": "code",
      "source": [
        "data.min()"
      ],
      "metadata": {
        "colab": {
          "base_uri": "https://localhost:8080/"
        },
        "id": "gq7gFvRhm6B3",
        "outputId": "129d8436-12b7-4a14-c234-9232bc21a307"
      },
      "execution_count": 38,
      "outputs": [
        {
          "output_type": "execute_result",
          "data": {
            "text/plain": [
              "0.0"
            ]
          },
          "metadata": {},
          "execution_count": 38
        }
      ]
    },
    {
      "cell_type": "code",
      "source": [
        "data.max()"
      ],
      "metadata": {
        "colab": {
          "base_uri": "https://localhost:8080/"
        },
        "id": "GVEH30b9njTn",
        "outputId": "5382a709-84b9-4b68-c389-aeb40c101161"
      },
      "execution_count": 39,
      "outputs": [
        {
          "output_type": "execute_result",
          "data": {
            "text/plain": [
              "16.0"
            ]
          },
          "metadata": {},
          "execution_count": 39
        }
      ]
    },
    {
      "cell_type": "code",
      "source": [
        "data = data/16"
      ],
      "metadata": {
        "id": "e4fx5_9enlIj"
      },
      "execution_count": 40,
      "outputs": []
    },
    {
      "cell_type": "code",
      "source": [
        "data.min()"
      ],
      "metadata": {
        "colab": {
          "base_uri": "https://localhost:8080/"
        },
        "id": "OOm7S91Ynnkg",
        "outputId": "9bc6072b-344b-415f-abde-0da8da51adac"
      },
      "execution_count": 41,
      "outputs": [
        {
          "output_type": "execute_result",
          "data": {
            "text/plain": [
              "0.0"
            ]
          },
          "metadata": {},
          "execution_count": 41
        }
      ]
    },
    {
      "cell_type": "code",
      "source": [
        "data.max()"
      ],
      "metadata": {
        "colab": {
          "base_uri": "https://localhost:8080/"
        },
        "id": "Gj6DFagyns0j",
        "outputId": "cacadfec-9156-46f8-e7c2-3919ac2c2662"
      },
      "execution_count": 42,
      "outputs": [
        {
          "output_type": "execute_result",
          "data": {
            "text/plain": [
              "1.0"
            ]
          },
          "metadata": {},
          "execution_count": 42
        }
      ]
    },
    {
      "cell_type": "code",
      "source": [
        "data[0]"
      ],
      "metadata": {
        "colab": {
          "base_uri": "https://localhost:8080/"
        },
        "id": "ErRywdYJnvyG",
        "outputId": "608dbb6d-1303-4b0e-bce5-6a50499ce851"
      },
      "execution_count": 43,
      "outputs": [
        {
          "output_type": "execute_result",
          "data": {
            "text/plain": [
              "array([0.    , 0.    , 0.3125, 0.8125, 0.5625, 0.0625, 0.    , 0.    ,\n",
              "       0.    , 0.    , 0.8125, 0.9375, 0.625 , 0.9375, 0.3125, 0.    ,\n",
              "       0.    , 0.1875, 0.9375, 0.125 , 0.    , 0.6875, 0.5   , 0.    ,\n",
              "       0.    , 0.25  , 0.75  , 0.    , 0.    , 0.5   , 0.5   , 0.    ,\n",
              "       0.    , 0.3125, 0.5   , 0.    , 0.    , 0.5625, 0.5   , 0.    ,\n",
              "       0.    , 0.25  , 0.6875, 0.    , 0.0625, 0.75  , 0.4375, 0.    ,\n",
              "       0.    , 0.125 , 0.875 , 0.3125, 0.625 , 0.75  , 0.    , 0.    ,\n",
              "       0.    , 0.    , 0.375 , 0.8125, 0.625 , 0.    , 0.    , 0.    ])"
            ]
          },
          "metadata": {},
          "execution_count": 43
        }
      ]
    },
    {
      "cell_type": "code",
      "source": [
        "#Train Test Split\n",
        "\n",
        "from sklearn.model_selection import train_test_split"
      ],
      "metadata": {
        "id": "ir5DWo0cn8F2"
      },
      "execution_count": 44,
      "outputs": []
    },
    {
      "cell_type": "code",
      "source": [
        "X_train, X_test,y_train, y_test = train_test_split(data,df.target,test_size=0.3)"
      ],
      "metadata": {
        "id": "uO3htmW6oHPd"
      },
      "execution_count": 46,
      "outputs": []
    },
    {
      "cell_type": "code",
      "source": [
        "X_train.shape, X_test.shape,y_train.shape, y_test.shape"
      ],
      "metadata": {
        "colab": {
          "base_uri": "https://localhost:8080/"
        },
        "id": "hJ0uFKOWoVjT",
        "outputId": "1a802010-56f4-41cf-aa9d-1157f9f5379a"
      },
      "execution_count": 47,
      "outputs": [
        {
          "output_type": "execute_result",
          "data": {
            "text/plain": [
              "((1257, 64), (540, 64), (1257,), (540,))"
            ]
          },
          "metadata": {},
          "execution_count": 47
        }
      ]
    },
    {
      "cell_type": "code",
      "source": [
        "#selecting model\n",
        "\n",
        "from sklearn.ensemble import RandomForestClassifier"
      ],
      "metadata": {
        "id": "5zIc0e-ooi6D"
      },
      "execution_count": 48,
      "outputs": []
    },
    {
      "cell_type": "code",
      "source": [
        "rf = RandomForestClassifier()"
      ],
      "metadata": {
        "id": "DBHD9jcFo0Aa"
      },
      "execution_count": 49,
      "outputs": []
    },
    {
      "cell_type": "code",
      "source": [
        "rf.fit(X_train,y_train)"
      ],
      "metadata": {
        "colab": {
          "base_uri": "https://localhost:8080/",
          "height": 74
        },
        "id": "ogvX_44to3Cf",
        "outputId": "86c91a28-c888-4023-ba9f-e8cbe038a2bd"
      },
      "execution_count": 50,
      "outputs": [
        {
          "output_type": "execute_result",
          "data": {
            "text/plain": [
              "RandomForestClassifier()"
            ],
            "text/html": [
              "<style>#sk-container-id-1 {color: black;background-color: white;}#sk-container-id-1 pre{padding: 0;}#sk-container-id-1 div.sk-toggleable {background-color: white;}#sk-container-id-1 label.sk-toggleable__label {cursor: pointer;display: block;width: 100%;margin-bottom: 0;padding: 0.3em;box-sizing: border-box;text-align: center;}#sk-container-id-1 label.sk-toggleable__label-arrow:before {content: \"▸\";float: left;margin-right: 0.25em;color: #696969;}#sk-container-id-1 label.sk-toggleable__label-arrow:hover:before {color: black;}#sk-container-id-1 div.sk-estimator:hover label.sk-toggleable__label-arrow:before {color: black;}#sk-container-id-1 div.sk-toggleable__content {max-height: 0;max-width: 0;overflow: hidden;text-align: left;background-color: #f0f8ff;}#sk-container-id-1 div.sk-toggleable__content pre {margin: 0.2em;color: black;border-radius: 0.25em;background-color: #f0f8ff;}#sk-container-id-1 input.sk-toggleable__control:checked~div.sk-toggleable__content {max-height: 200px;max-width: 100%;overflow: auto;}#sk-container-id-1 input.sk-toggleable__control:checked~label.sk-toggleable__label-arrow:before {content: \"▾\";}#sk-container-id-1 div.sk-estimator input.sk-toggleable__control:checked~label.sk-toggleable__label {background-color: #d4ebff;}#sk-container-id-1 div.sk-label input.sk-toggleable__control:checked~label.sk-toggleable__label {background-color: #d4ebff;}#sk-container-id-1 input.sk-hidden--visually {border: 0;clip: rect(1px 1px 1px 1px);clip: rect(1px, 1px, 1px, 1px);height: 1px;margin: -1px;overflow: hidden;padding: 0;position: absolute;width: 1px;}#sk-container-id-1 div.sk-estimator {font-family: monospace;background-color: #f0f8ff;border: 1px dotted black;border-radius: 0.25em;box-sizing: border-box;margin-bottom: 0.5em;}#sk-container-id-1 div.sk-estimator:hover {background-color: #d4ebff;}#sk-container-id-1 div.sk-parallel-item::after {content: \"\";width: 100%;border-bottom: 1px solid gray;flex-grow: 1;}#sk-container-id-1 div.sk-label:hover label.sk-toggleable__label {background-color: #d4ebff;}#sk-container-id-1 div.sk-serial::before {content: \"\";position: absolute;border-left: 1px solid gray;box-sizing: border-box;top: 0;bottom: 0;left: 50%;z-index: 0;}#sk-container-id-1 div.sk-serial {display: flex;flex-direction: column;align-items: center;background-color: white;padding-right: 0.2em;padding-left: 0.2em;position: relative;}#sk-container-id-1 div.sk-item {position: relative;z-index: 1;}#sk-container-id-1 div.sk-parallel {display: flex;align-items: stretch;justify-content: center;background-color: white;position: relative;}#sk-container-id-1 div.sk-item::before, #sk-container-id-1 div.sk-parallel-item::before {content: \"\";position: absolute;border-left: 1px solid gray;box-sizing: border-box;top: 0;bottom: 0;left: 50%;z-index: -1;}#sk-container-id-1 div.sk-parallel-item {display: flex;flex-direction: column;z-index: 1;position: relative;background-color: white;}#sk-container-id-1 div.sk-parallel-item:first-child::after {align-self: flex-end;width: 50%;}#sk-container-id-1 div.sk-parallel-item:last-child::after {align-self: flex-start;width: 50%;}#sk-container-id-1 div.sk-parallel-item:only-child::after {width: 0;}#sk-container-id-1 div.sk-dashed-wrapped {border: 1px dashed gray;margin: 0 0.4em 0.5em 0.4em;box-sizing: border-box;padding-bottom: 0.4em;background-color: white;}#sk-container-id-1 div.sk-label label {font-family: monospace;font-weight: bold;display: inline-block;line-height: 1.2em;}#sk-container-id-1 div.sk-label-container {text-align: center;}#sk-container-id-1 div.sk-container {/* jupyter's `normalize.less` sets `[hidden] { display: none; }` but bootstrap.min.css set `[hidden] { display: none !important; }` so we also need the `!important` here to be able to override the default hidden behavior on the sphinx rendered scikit-learn.org. See: https://github.com/scikit-learn/scikit-learn/issues/21755 */display: inline-block !important;position: relative;}#sk-container-id-1 div.sk-text-repr-fallback {display: none;}</style><div id=\"sk-container-id-1\" class=\"sk-top-container\"><div class=\"sk-text-repr-fallback\"><pre>RandomForestClassifier()</pre><b>In a Jupyter environment, please rerun this cell to show the HTML representation or trust the notebook. <br />On GitHub, the HTML representation is unable to render, please try loading this page with nbviewer.org.</b></div><div class=\"sk-container\" hidden><div class=\"sk-item\"><div class=\"sk-estimator sk-toggleable\"><input class=\"sk-toggleable__control sk-hidden--visually\" id=\"sk-estimator-id-1\" type=\"checkbox\" checked><label for=\"sk-estimator-id-1\" class=\"sk-toggleable__label sk-toggleable__label-arrow\">RandomForestClassifier</label><div class=\"sk-toggleable__content\"><pre>RandomForestClassifier()</pre></div></div></div></div></div>"
            ]
          },
          "metadata": {},
          "execution_count": 50
        }
      ]
    },
    {
      "cell_type": "code",
      "source": [
        "#predict test data\n",
        "\n",
        "y_pred = rf.predict(X_test)"
      ],
      "metadata": {
        "id": "bWTdPo3Go70E"
      },
      "execution_count": 54,
      "outputs": []
    },
    {
      "cell_type": "code",
      "source": [
        "y_pred"
      ],
      "metadata": {
        "colab": {
          "base_uri": "https://localhost:8080/"
        },
        "id": "b_X1UlWApObb",
        "outputId": "3a6d4ed7-3c74-432a-cec3-9009e7e916a9"
      },
      "execution_count": 55,
      "outputs": [
        {
          "output_type": "execute_result",
          "data": {
            "text/plain": [
              "array([5, 8, 9, 4, 6, 0, 2, 1, 0, 7, 1, 6, 1, 7, 4, 7, 7, 1, 3, 4, 7, 4,\n",
              "       8, 8, 2, 2, 9, 5, 5, 0, 9, 6, 1, 4, 2, 8, 0, 0, 5, 1, 0, 9, 1, 3,\n",
              "       4, 1, 9, 2, 9, 9, 7, 1, 3, 7, 7, 1, 6, 7, 9, 3, 8, 7, 1, 6, 9, 7,\n",
              "       0, 9, 6, 6, 3, 7, 1, 5, 3, 4, 5, 8, 8, 2, 3, 8, 0, 6, 3, 9, 5, 0,\n",
              "       8, 5, 1, 5, 2, 6, 7, 9, 5, 1, 8, 2, 1, 4, 4, 4, 4, 9, 1, 4, 6, 6,\n",
              "       7, 7, 6, 8, 7, 0, 5, 8, 3, 9, 8, 1, 5, 3, 4, 1, 6, 3, 4, 1, 2, 1,\n",
              "       5, 4, 3, 7, 3, 9, 3, 1, 5, 0, 2, 9, 5, 8, 9, 9, 3, 4, 1, 1, 7, 7,\n",
              "       8, 5, 8, 1, 2, 7, 8, 1, 1, 2, 3, 3, 2, 7, 4, 1, 2, 9, 4, 6, 5, 9,\n",
              "       1, 2, 7, 0, 4, 0, 0, 5, 2, 3, 1, 6, 7, 0, 2, 5, 1, 0, 5, 6, 8, 2,\n",
              "       0, 2, 9, 6, 5, 1, 6, 2, 8, 4, 4, 9, 3, 5, 2, 0, 0, 2, 8, 1, 1, 5,\n",
              "       1, 1, 1, 0, 4, 4, 1, 7, 8, 2, 6, 6, 7, 9, 5, 4, 9, 9, 5, 5, 4, 5,\n",
              "       5, 2, 1, 0, 3, 5, 7, 6, 7, 7, 1, 7, 9, 3, 2, 3, 5, 5, 1, 7, 8, 6,\n",
              "       3, 0, 3, 7, 4, 1, 1, 8, 0, 8, 8, 0, 9, 4, 5, 9, 6, 0, 6, 6, 3, 4,\n",
              "       4, 2, 5, 4, 3, 9, 8, 8, 6, 5, 3, 0, 6, 1, 9, 4, 5, 0, 8, 4, 9, 3,\n",
              "       4, 9, 6, 3, 6, 0, 3, 9, 2, 8, 4, 5, 2, 7, 3, 6, 7, 2, 6, 9, 0, 2,\n",
              "       9, 6, 3, 4, 6, 8, 1, 0, 1, 7, 0, 1, 8, 3, 0, 7, 6, 7, 4, 9, 6, 7,\n",
              "       7, 1, 6, 2, 3, 8, 3, 3, 2, 7, 1, 7, 5, 6, 2, 2, 3, 6, 0, 1, 6, 7,\n",
              "       2, 6, 4, 8, 8, 2, 3, 9, 8, 3, 6, 6, 5, 8, 1, 9, 8, 7, 9, 5, 7, 9,\n",
              "       5, 3, 8, 6, 5, 8, 6, 2, 3, 5, 1, 4, 3, 4, 7, 4, 0, 8, 8, 0, 0, 0,\n",
              "       2, 7, 5, 2, 3, 2, 8, 0, 8, 7, 2, 8, 7, 3, 2, 3, 9, 8, 1, 0, 2, 6,\n",
              "       2, 8, 2, 6, 7, 2, 4, 8, 5, 5, 7, 4, 6, 7, 0, 1, 2, 4, 8, 7, 7, 8,\n",
              "       5, 4, 0, 8, 3, 5, 5, 2, 9, 2, 7, 3, 4, 8, 5, 5, 0, 8, 1, 5, 1, 3,\n",
              "       7, 0, 3, 3, 0, 4, 4, 5, 1, 6, 7, 6, 8, 6, 6, 0, 3, 7, 2, 3, 9, 6,\n",
              "       9, 9, 9, 9, 4, 6, 5, 6, 7, 5, 4, 5, 4, 2, 5, 0, 5, 9, 4, 8, 7, 9,\n",
              "       5, 2, 9, 0, 3, 4, 5, 5, 9, 6, 4, 0])"
            ]
          },
          "metadata": {},
          "execution_count": 55
        }
      ]
    },
    {
      "cell_type": "code",
      "source": [
        "#model accuracy\n",
        "\n",
        "from sklearn.metrics import confusion_matrix, classification_report, accuracy_score"
      ],
      "metadata": {
        "id": "NKyND6NYpXRV"
      },
      "execution_count": 56,
      "outputs": []
    },
    {
      "cell_type": "code",
      "source": [
        "confusion_matrix(y_test,y_pred)"
      ],
      "metadata": {
        "colab": {
          "base_uri": "https://localhost:8080/"
        },
        "id": "RiV5zsfJpDqf",
        "outputId": "63036b30-ebf2-450a-98d1-2b5ced1f36e1"
      },
      "execution_count": 57,
      "outputs": [
        {
          "output_type": "execute_result",
          "data": {
            "text/plain": [
              "array([[48,  0,  0,  0,  0,  0,  0,  0,  0,  0],\n",
              "       [ 0, 56,  0,  0,  0,  1,  0,  0,  0,  0],\n",
              "       [ 0,  0, 52,  0,  0,  0,  0,  0,  0,  0],\n",
              "       [ 0,  0,  0, 53,  0,  0,  0,  0,  0,  0],\n",
              "       [ 0,  0,  0,  0, 53,  0,  0,  2,  0,  0],\n",
              "       [ 0,  0,  0,  0,  0, 59,  1,  0,  1,  0],\n",
              "       [ 0,  0,  0,  0,  0,  0, 54,  0,  0,  0],\n",
              "       [ 0,  0,  0,  0,  0,  0,  0, 55,  0,  0],\n",
              "       [ 0,  0,  0,  0,  0,  0,  0,  1, 53,  1],\n",
              "       [ 0,  0,  0,  0,  0,  0,  0,  0,  0, 50]])"
            ]
          },
          "metadata": {},
          "execution_count": 57
        }
      ]
    },
    {
      "cell_type": "code",
      "source": [
        "accuracy_score(y_test,y_pred)"
      ],
      "metadata": {
        "colab": {
          "base_uri": "https://localhost:8080/"
        },
        "id": "rZx9lX8GpvWk",
        "outputId": "00ad87fa-566b-45d9-dfbf-ea8c57bd7ba9"
      },
      "execution_count": 58,
      "outputs": [
        {
          "output_type": "execute_result",
          "data": {
            "text/plain": [
              "0.987037037037037"
            ]
          },
          "metadata": {},
          "execution_count": 58
        }
      ]
    },
    {
      "cell_type": "code",
      "source": [
        "print(classification_report(y_test,y_pred))"
      ],
      "metadata": {
        "colab": {
          "base_uri": "https://localhost:8080/"
        },
        "id": "B3sBgXAUpzBQ",
        "outputId": "f4189ec9-08c2-45c6-d678-86bd63d8f370"
      },
      "execution_count": 60,
      "outputs": [
        {
          "output_type": "stream",
          "name": "stdout",
          "text": [
            "              precision    recall  f1-score   support\n",
            "\n",
            "           0       1.00      1.00      1.00        48\n",
            "           1       1.00      0.98      0.99        57\n",
            "           2       1.00      1.00      1.00        52\n",
            "           3       1.00      1.00      1.00        53\n",
            "           4       1.00      0.96      0.98        55\n",
            "           5       0.98      0.97      0.98        61\n",
            "           6       0.98      1.00      0.99        54\n",
            "           7       0.95      1.00      0.97        55\n",
            "           8       0.98      0.96      0.97        55\n",
            "           9       0.98      1.00      0.99        50\n",
            "\n",
            "    accuracy                           0.99       540\n",
            "   macro avg       0.99      0.99      0.99       540\n",
            "weighted avg       0.99      0.99      0.99       540\n",
            "\n"
          ]
        }
      ]
    },
    {
      "cell_type": "markdown",
      "source": [
        "#Explaination\n",
        "The above model is made using RandomForestClassifier model. It is used to predict the number which is displayed by handwritten number images. The 2D image is converted into flat image and after scaling, the train test split applied and the rest task is done by Random Forest Classifier. We have gained accuracy of ~ 98%."
      ],
      "metadata": {
        "id": "glwYiw02qTmS"
      }
    },
    {
      "cell_type": "code",
      "source": [],
      "metadata": {
        "id": "6NDFM9Fap7dm"
      },
      "execution_count": null,
      "outputs": []
    }
  ]
}